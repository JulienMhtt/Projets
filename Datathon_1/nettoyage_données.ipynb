{
 "cells": [
  {
   "cell_type": "code",
   "execution_count": 103,
   "id": "53d3c8d1",
   "metadata": {},
   "outputs": [],
   "source": [
    "import pandas as pd\n",
    "import numpy as np"
   ]
  },
  {
   "cell_type": "markdown",
   "id": "dcbc7af9",
   "metadata": {},
   "source": [
    "# Découverte, pré traitement, et traitement de la base de donnée"
   ]
  },
  {
   "cell_type": "code",
   "execution_count": 104,
   "id": "28182820",
   "metadata": {},
   "outputs": [],
   "source": [
    "df = pd.read_csv(\"/Users/julien/Documents/Datathon/tracks_features.csv\")"
   ]
  },
  {
   "cell_type": "code",
   "execution_count": 105,
   "id": "03b158df",
   "metadata": {},
   "outputs": [
    {
     "name": "stdout",
     "output_type": "stream",
     "text": [
      "id' = [<class 'str'>]\n",
      "name' = [<class 'str'>]\n",
      "album' = [<class 'str'>]\n",
      "album_id' = [<class 'str'>]\n",
      "artists' = [<class 'str'>]\n",
      "artist_ids' = [<class 'str'>]\n",
      "track_number' = [<class 'int'>]\n",
      "disc_number' = [<class 'int'>]\n",
      "explicit' = [<class 'bool'>]\n",
      "danceability' = [<class 'float'>]\n",
      "energy' = [<class 'float'>]\n",
      "key' = [<class 'int'>]\n",
      "loudness' = [<class 'float'>]\n",
      "mode' = [<class 'int'>]\n",
      "speechiness' = [<class 'float'>]\n",
      "acousticness' = [<class 'float'>]\n",
      "instrumentalness' = [<class 'float'>]\n",
      "liveness' = [<class 'float'>]\n",
      "valence' = [<class 'float'>]\n",
      "tempo' = [<class 'float'>]\n",
      "duration_ms' = [<class 'int'>]\n",
      "time_signature' = [<class 'float'>]\n",
      "year' = [<class 'int'>]\n",
      "release_date' = [<class 'str'>]\n"
     ]
    }
   ],
   "source": [
    "# On récupère les types des valeurs des colonnes du data frame\n",
    "def get_unique_column_types(df, col_name):\n",
    "    \"\"\"\n",
    "    Returns a list of the unique types of values in the specified column of the DataFrame.\n",
    "\n",
    "    Parameters:\n",
    "    df (pandas.DataFrame): The DataFrame containing the column.\n",
    "    col_name (str): The name of the column to check.\n",
    "\n",
    "    Returns:\n",
    "    list: A list of the unique types of values in the column.\n",
    "    \"\"\"\n",
    "    unique_types = df[col_name].apply(type).unique()\n",
    "    return unique_types\n",
    "\n",
    "# List of column names in the DataFrame\n",
    "column_names = df.columns.tolist()\n",
    "\n",
    "# Iterate over each column name and print the unique types of values in that column\n",
    "for col_name in column_names:\n",
    "    types = get_unique_column_types(df, col_name)\n",
    "    print(f\"{col_name}' = {types}\")"
   ]
  },
  {
   "cell_type": "code",
   "execution_count": 106,
   "id": "6816217e",
   "metadata": {},
   "outputs": [],
   "source": [
    "# On change une valeur abérante de la colonne release_date\n",
    "df.loc[df.release_date == \"0000\", \"release_date\"] = \"2018-09-04\""
   ]
  },
  {
   "cell_type": "code",
   "execution_count": 107,
   "id": "c136b276",
   "metadata": {
    "scrolled": true
   },
   "outputs": [],
   "source": [
    "# On change une valeur abérante de la colonne year\n",
    "df.loc[df.year == \"0\", \"year\"] = 2018"
   ]
  },
  {
   "cell_type": "code",
   "execution_count": 108,
   "id": "c152fac7",
   "metadata": {
    "collapsed": true
   },
   "outputs": [
    {
     "name": "stdout",
     "output_type": "stream",
     "text": [
      "0\n",
      "0\n"
     ]
    }
   ],
   "source": [
    "# Vérification \n",
    "print((df.release_date == \"0000\").sum())\n",
    "print((df.year == \"0\").sum())"
   ]
  },
  {
   "cell_type": "code",
   "execution_count": null,
   "id": "a9729e3c",
   "metadata": {},
   "outputs": [],
   "source": [
    "## Creation d'une copie pour éviter les bétises\n",
    "df_copy = df.copy()"
   ]
  },
  {
   "cell_type": "code",
   "execution_count": null,
   "id": "c37fab2c",
   "metadata": {},
   "outputs": [],
   "source": [
    "# On selectionne les colonnes pertinantes\n",
    "df_copy = df_copy[['id', 'name', 'album', 'album_id', 'artists', 'artist_ids',\n",
    "       'explicit', 'danceability', 'energy',\n",
    "       'loudness', 'speechiness',\n",
    "       'valence', 'tempo', 'duration_ms',\n",
    "       'year']]\n",
    "\n",
    "# Création d'un masque des durée de musique supérieur à 10 min \n",
    "mask = df_copy.duration_ms > 600000\n",
    "\n",
    "# On ne garde que les lignes qui ne sont pas dans le masque\n",
    "df_copy = df_copy[~mask]\n"
   ]
  },
  {
   "cell_type": "code",
   "execution_count": null,
   "id": "c5b437e9",
   "metadata": {},
   "outputs": [],
   "source": [
    "# On export au format csv\n",
    "df_copy.to_csv('datathonbbq.csv')"
   ]
  }
 ],
 "metadata": {
  "kernelspec": {
   "display_name": "Python 3 (ipykernel)",
   "language": "python",
   "name": "python3"
  },
  "language_info": {
   "codemirror_mode": {
    "name": "ipython",
    "version": 3
   },
   "file_extension": ".py",
   "mimetype": "text/x-python",
   "name": "python",
   "nbconvert_exporter": "python",
   "pygments_lexer": "ipython3",
   "version": "3.10.9"
  }
 },
 "nbformat": 4,
 "nbformat_minor": 5
}
